{
  "nbformat": 4,
  "nbformat_minor": 0,
  "metadata": {
    "colab": {
      "provenance": []
    },
    "kernelspec": {
      "name": "python3",
      "display_name": "Python 3"
    },
    "language_info": {
      "name": "python"
    }
  },
  "cells": [
    {
      "cell_type": "markdown",
      "source": [
        "# Herramientas y Fundamentos de la Ciencia de Datos"
      ],
      "metadata": {
        "id": "cZ9d4QvfxEP5"
      }
    },
    {
      "cell_type": "markdown",
      "source": [
        "## Introducción\n",
        "\n",
        "Este cuaderno explora las herramientas fundamentales y conceptos básicos utilizados en la ciencia de datos.\n",
        "\n",
        "## Lenguajes de Programación en Ciencia de Datos\n",
        "\n",
        "1. Python\n",
        "   - Versátil y ampliamente usado\n",
        "   - Excelente para análisis de datos y machine learning\n",
        "   \n",
        "2. R\n",
        "   - Especializado en análisis estadístico\n",
        "   - Gran comunidad académica\n",
        "\n",
        "3. SQL\n",
        "   - Fundamental para manejo de bases de datos\n",
        "   - Esencial para data mining\n",
        "\n",
        "4. Julia\n",
        "   - Alto rendimiento en computación numérica\n",
        "   - Creciente adopción en la comunidad científica\n",
        "\n",
        "## Bibliotecas Principales de Ciencia de Datos\n",
        "\n",
        "1. **Para Análisis de Datos:**\n",
        "   - Pandas\n",
        "   - NumPy\n",
        "   - SciPy\n",
        "\n",
        "2. **Para Visualización:**\n",
        "   - Matplotlib\n",
        "   - Seaborn\n",
        "   - Plotly\n",
        "\n",
        "3. **Para Machine Learning:**\n",
        "   - Scikit-learn\n",
        "   - TensorFlow\n",
        "   - PyTorch\n",
        "\n",
        "\n",
        "## Herramientas de Ciencia de Datos\n",
        "\n",
        "| Categoría | Herramienta | Uso Principal |\n",
        "|-----------|-------------|---------------|\n",
        "| IDEs | Jupyter Notebook | Desarrollo interactivo |\n",
        "| IDEs | VS Code | Desarrollo de código |\n",
        "| Visualización | Tableau | Dashboards |\n",
        "| Base de datos | PostgreSQL | Almacenamiento de datos |\n",
        "| Cloud | AWS | Servicios en la nube |\n"
      ],
      "metadata": {
        "id": "ibwmA1u3xHYK"
      }
    },
    {
      "cell_type": "markdown",
      "source": [
        "## Ejemplos de Expresiones Aritméticas\n",
        "\n",
        "En markdown podemos expresar diversas operaciones matemáticas:\n",
        "- Suma: 5 + 3\n",
        "- Resta: 10 - 4\n",
        "- Multiplicación: 6 * 2\n",
        "- División: 15 / 3\n",
        "- Potencia: $2^3$\n",
        "\n",
        "### Expresiones Matemáticas Avanzadas:\n",
        "\n",
        "**Derivadas:**\n",
        "- Derivada básica: $\\frac{d}{dx}(x^2) = 2x$\n",
        "- Regla del producto: $\\frac{d}{dx}(u\\cdot v) = u\\frac{dv}{dx} + v\\frac{du}{dx}$\n",
        "- Derivada de función exponencial: $\\frac{d}{dx}(e^x) = e^x$\n",
        "- Derivada de función trigonométrica: $\\frac{d}{dx}(\\sin x) = \\cos x$\n",
        "\n",
        "**Integrales:**\n",
        "- Integral indefinida: $\\int x^2 dx = \\frac{x^3}{3} + C$\n",
        "- Integral definida: $\\int_0^1 x^2 dx = [\\frac{x^3}{3}]_0^1 = \\frac{1}{3}$\n",
        "- Integral por partes: $\\int u\\,dv = uv - \\int v\\,du$\n",
        "- Integral doble: $\\iint_D f(x,y)\\,dx\\,dy$\n",
        "\n",
        "**Límites:**\n",
        "- Límite básico: $\\lim_{x \\to \\infty} \\frac{1}{x} = 0$\n",
        "- Límite trigonométrico: $\\lim_{x \\to 0} \\frac{\\sin x}{x} = 1$\n",
        "\n",
        "**Ecuaciones Diferenciales:**\n",
        "- Primera orden: $\\frac{dy}{dx} + P(x)y = Q(x)$\n",
        "- Segunda orden: $\\frac{d^2y}{dx^2} + \\frac{dy}{dx} + y = 0$"
      ],
      "metadata": {
        "id": "m8rbMujXxsHe"
      }
    },
    {
      "cell_type": "code",
      "source": [
        "numero1 = 10\n",
        "numero2 = 5\n",
        "numero3 = 3"
      ],
      "metadata": {
        "id": "w3Tr6yUExq4W"
      },
      "execution_count": 1,
      "outputs": []
    },
    {
      "cell_type": "code",
      "execution_count": 2,
      "metadata": {
        "colab": {
          "base_uri": "https://localhost:8080/"
        },
        "id": "L1IL-bFSw8se",
        "outputId": "97ef2320-2bbf-4224-89c3-6cb2a86892ae"
      },
      "outputs": [
        {
          "output_type": "execute_result",
          "data": {
            "text/plain": [
              "50"
            ]
          },
          "metadata": {},
          "execution_count": 2
        }
      ],
      "source": [
        "numero1 * numero2"
      ]
    },
    {
      "cell_type": "code",
      "source": [
        "numero2 + numero3"
      ],
      "metadata": {
        "colab": {
          "base_uri": "https://localhost:8080/"
        },
        "id": "rNjabyIMyUlT",
        "outputId": "b6b76cad-3d6c-4aee-98c9-743f4921299f"
      },
      "execution_count": 3,
      "outputs": [
        {
          "output_type": "execute_result",
          "data": {
            "text/plain": [
              "8"
            ]
          },
          "metadata": {},
          "execution_count": 3
        }
      ]
    },
    {
      "cell_type": "code",
      "source": [
        "def minutos_a_horas(minutos):\n",
        "    horas = minutos / 60\n",
        "    return horas\n",
        "\n",
        "minutos_a_horas(150)\n"
      ],
      "metadata": {
        "colab": {
          "base_uri": "https://localhost:8080/"
        },
        "id": "0s0wi926yYQS",
        "outputId": "c5aeeea3-236c-4ae1-b1e1-0512a1bb693a"
      },
      "execution_count": 4,
      "outputs": [
        {
          "output_type": "execute_result",
          "data": {
            "text/plain": [
              "2.5"
            ]
          },
          "metadata": {},
          "execution_count": 4
        }
      ]
    },
    {
      "cell_type": "code",
      "source": [
        "objetivos = [\n",
        "    \"Aprender fundamentos de programación en Python\",\n",
        "    \"Dominar bibliotecas principales de análisis de datos\",\n",
        "    \"Desarrollar habilidades en visualización de datos\",\n",
        "    \"Comprender conceptos básicos de machine learning\",\n",
        "    \"Aplicar conocimientos en proyectos prácticos\"\n",
        "]\n",
        "\n",
        "for i, objetivo in enumerate(objetivos, 1):\n",
        "    print(f\"{i}. {objetivo}\")"
      ],
      "metadata": {
        "colab": {
          "base_uri": "https://localhost:8080/"
        },
        "id": "Qmi2cpx2JFov",
        "outputId": "320ea2be-cb96-43cf-f636-cf1ef16389a3"
      },
      "execution_count": 5,
      "outputs": [
        {
          "output_type": "stream",
          "name": "stdout",
          "text": [
            "1. Aprender fundamentos de programación en Python\n",
            "2. Dominar bibliotecas principales de análisis de datos\n",
            "3. Desarrollar habilidades en visualización de datos\n",
            "4. Comprender conceptos básicos de machine learning\n",
            "5. Aplicar conocimientos en proyectos prácticos\n"
          ]
        }
      ]
    },
    {
      "cell_type": "markdown",
      "source": [
        "## Autor\n",
        "\n",
        "**Nombre:** enrique ramirez\n",
        "**Fecha:** 16-11-2024"
      ],
      "metadata": {
        "id": "l2zU2DDaItSD"
      }
    }
  ]
}